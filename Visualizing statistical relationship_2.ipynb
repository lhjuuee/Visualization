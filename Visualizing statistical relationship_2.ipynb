{
 "cells": [
  {
   "cell_type": "markdown",
   "metadata": {},
   "source": [
    "# Visualizing"
   ]
  },
  {
   "cell_type": "markdown",
   "metadata": {},
   "source": [
    "### Using game data_bigcontest"
   ]
  },
  {
   "cell_type": "code",
   "execution_count": 1,
   "metadata": {},
   "outputs": [],
   "source": [
    "import numpy as np\n",
    "import pandas as pd\n",
    "import matplotlib.pyplot as plt\n",
    "import seaborn as sns\n",
    "sns.set(style=\"darkgrid\")\n",
    "from scipy import stats"
   ]
  },
  {
   "cell_type": "code",
   "execution_count": 2,
   "metadata": {},
   "outputs": [],
   "source": [
    "train_activity = pd.read_csv('C:/Bigcontest/train_activity.csv')\n",
    "train_label = pd.read_csv('C:/Bigcontest/train_label.csv')"
   ]
  },
  {
   "cell_type": "code",
   "execution_count": 3,
   "metadata": {},
   "outputs": [],
   "source": [
    "train_chat = train_activity[['acc_id','guild_chat','party_chat']]"
   ]
  },
  {
   "cell_type": "code",
   "execution_count": 4,
   "metadata": {},
   "outputs": [
    {
     "data": {
      "text/html": [
       "<div>\n",
       "<style scoped>\n",
       "    .dataframe tbody tr th:only-of-type {\n",
       "        vertical-align: middle;\n",
       "    }\n",
       "\n",
       "    .dataframe tbody tr th {\n",
       "        vertical-align: top;\n",
       "    }\n",
       "\n",
       "    .dataframe thead th {\n",
       "        text-align: right;\n",
       "    }\n",
       "</style>\n",
       "<table border=\"1\" class=\"dataframe\">\n",
       "  <thead>\n",
       "    <tr style=\"text-align: right;\">\n",
       "      <th></th>\n",
       "      <th>acc_id</th>\n",
       "      <th>guild_chat</th>\n",
       "      <th>party_chat</th>\n",
       "    </tr>\n",
       "  </thead>\n",
       "  <tbody>\n",
       "    <tr>\n",
       "      <th>0</th>\n",
       "      <td>3dc6f2875dc6e6f35b9e2bdb25b391a8003386ff23becd...</td>\n",
       "      <td>-0.343293</td>\n",
       "      <td>-0.275174</td>\n",
       "    </tr>\n",
       "    <tr>\n",
       "      <th>1</th>\n",
       "      <td>3dc6f2875dc6e6f35b9e2bdb25b391a8003386ff23becd...</td>\n",
       "      <td>-0.343293</td>\n",
       "      <td>-0.275174</td>\n",
       "    </tr>\n",
       "    <tr>\n",
       "      <th>2</th>\n",
       "      <td>b8856358ff62e596fa07e3e40b8e7fd4b7729263c72b44...</td>\n",
       "      <td>-0.343293</td>\n",
       "      <td>-0.275174</td>\n",
       "    </tr>\n",
       "    <tr>\n",
       "      <th>3</th>\n",
       "      <td>b8856358ff62e596fa07e3e40b8e7fd4b7729263c72b44...</td>\n",
       "      <td>-0.343293</td>\n",
       "      <td>-0.275174</td>\n",
       "    </tr>\n",
       "    <tr>\n",
       "      <th>4</th>\n",
       "      <td>b8856358ff62e596fa07e3e40b8e7fd4b7729263c72b44...</td>\n",
       "      <td>-0.343293</td>\n",
       "      <td>-0.275174</td>\n",
       "    </tr>\n",
       "  </tbody>\n",
       "</table>\n",
       "</div>"
      ],
      "text/plain": [
       "                                              acc_id  guild_chat  party_chat\n",
       "0  3dc6f2875dc6e6f35b9e2bdb25b391a8003386ff23becd...   -0.343293   -0.275174\n",
       "1  3dc6f2875dc6e6f35b9e2bdb25b391a8003386ff23becd...   -0.343293   -0.275174\n",
       "2  b8856358ff62e596fa07e3e40b8e7fd4b7729263c72b44...   -0.343293   -0.275174\n",
       "3  b8856358ff62e596fa07e3e40b8e7fd4b7729263c72b44...   -0.343293   -0.275174\n",
       "4  b8856358ff62e596fa07e3e40b8e7fd4b7729263c72b44...   -0.343293   -0.275174"
      ]
     },
     "execution_count": 4,
     "metadata": {},
     "output_type": "execute_result"
    }
   ],
   "source": [
    "train_chat.head()"
   ]
  },
  {
   "cell_type": "code",
   "execution_count": 5,
   "metadata": {},
   "outputs": [],
   "source": [
    "train_chat = train_chat.groupby(['acc_id'], as_index = False).mean()"
   ]
  },
  {
   "cell_type": "code",
   "execution_count": 6,
   "metadata": {},
   "outputs": [
    {
     "data": {
      "text/html": [
       "<div>\n",
       "<style scoped>\n",
       "    .dataframe tbody tr th:only-of-type {\n",
       "        vertical-align: middle;\n",
       "    }\n",
       "\n",
       "    .dataframe tbody tr th {\n",
       "        vertical-align: top;\n",
       "    }\n",
       "\n",
       "    .dataframe thead th {\n",
       "        text-align: right;\n",
       "    }\n",
       "</style>\n",
       "<table border=\"1\" class=\"dataframe\">\n",
       "  <thead>\n",
       "    <tr style=\"text-align: right;\">\n",
       "      <th></th>\n",
       "      <th>acc_id</th>\n",
       "      <th>guild_chat</th>\n",
       "      <th>party_chat</th>\n",
       "    </tr>\n",
       "  </thead>\n",
       "  <tbody>\n",
       "    <tr>\n",
       "      <th>0</th>\n",
       "      <td>0000264b01392acfde44f9d8494f112a701dc5d3e5fda6...</td>\n",
       "      <td>-0.343293</td>\n",
       "      <td>-0.275174</td>\n",
       "    </tr>\n",
       "    <tr>\n",
       "      <th>1</th>\n",
       "      <td>0001f130e89288ff0df167b998f6eb7085687f411fcb72...</td>\n",
       "      <td>-0.343293</td>\n",
       "      <td>-0.275174</td>\n",
       "    </tr>\n",
       "    <tr>\n",
       "      <th>2</th>\n",
       "      <td>00028f0ad71c07f48aef465fd0c98ba6e3f0f3de3d2f7d...</td>\n",
       "      <td>-0.343293</td>\n",
       "      <td>-0.275174</td>\n",
       "    </tr>\n",
       "    <tr>\n",
       "      <th>3</th>\n",
       "      <td>00036e5b6a197c196fa10fc0ad4e2853b22294dff64d27...</td>\n",
       "      <td>-0.343293</td>\n",
       "      <td>-0.270133</td>\n",
       "    </tr>\n",
       "    <tr>\n",
       "      <th>4</th>\n",
       "      <td>00037fe8e712041a476b8b1b827583cbc34895844057f0...</td>\n",
       "      <td>-0.343293</td>\n",
       "      <td>-0.275174</td>\n",
       "    </tr>\n",
       "  </tbody>\n",
       "</table>\n",
       "</div>"
      ],
      "text/plain": [
       "                                              acc_id  guild_chat  party_chat\n",
       "0  0000264b01392acfde44f9d8494f112a701dc5d3e5fda6...   -0.343293   -0.275174\n",
       "1  0001f130e89288ff0df167b998f6eb7085687f411fcb72...   -0.343293   -0.275174\n",
       "2  00028f0ad71c07f48aef465fd0c98ba6e3f0f3de3d2f7d...   -0.343293   -0.275174\n",
       "3  00036e5b6a197c196fa10fc0ad4e2853b22294dff64d27...   -0.343293   -0.270133\n",
       "4  00037fe8e712041a476b8b1b827583cbc34895844057f0...   -0.343293   -0.275174"
      ]
     },
     "execution_count": 6,
     "metadata": {},
     "output_type": "execute_result"
    }
   ],
   "source": [
    "train_chat.head()"
   ]
  },
  {
   "cell_type": "code",
   "execution_count": 7,
   "metadata": {},
   "outputs": [],
   "source": [
    "train_chat = pd.merge(train_chat, train_label, how='outer', on='acc_id')"
   ]
  },
  {
   "cell_type": "code",
   "execution_count": 8,
   "metadata": {},
   "outputs": [
    {
     "data": {
      "text/html": [
       "<div>\n",
       "<style scoped>\n",
       "    .dataframe tbody tr th:only-of-type {\n",
       "        vertical-align: middle;\n",
       "    }\n",
       "\n",
       "    .dataframe tbody tr th {\n",
       "        vertical-align: top;\n",
       "    }\n",
       "\n",
       "    .dataframe thead th {\n",
       "        text-align: right;\n",
       "    }\n",
       "</style>\n",
       "<table border=\"1\" class=\"dataframe\">\n",
       "  <thead>\n",
       "    <tr style=\"text-align: right;\">\n",
       "      <th></th>\n",
       "      <th>acc_id</th>\n",
       "      <th>guild_chat</th>\n",
       "      <th>party_chat</th>\n",
       "      <th>label</th>\n",
       "    </tr>\n",
       "  </thead>\n",
       "  <tbody>\n",
       "    <tr>\n",
       "      <th>0</th>\n",
       "      <td>0000264b01392acfde44f9d8494f112a701dc5d3e5fda6...</td>\n",
       "      <td>-0.343293</td>\n",
       "      <td>-0.275174</td>\n",
       "      <td>week</td>\n",
       "    </tr>\n",
       "    <tr>\n",
       "      <th>1</th>\n",
       "      <td>0001f130e89288ff0df167b998f6eb7085687f411fcb72...</td>\n",
       "      <td>-0.343293</td>\n",
       "      <td>-0.275174</td>\n",
       "      <td>retained</td>\n",
       "    </tr>\n",
       "    <tr>\n",
       "      <th>2</th>\n",
       "      <td>00028f0ad71c07f48aef465fd0c98ba6e3f0f3de3d2f7d...</td>\n",
       "      <td>-0.343293</td>\n",
       "      <td>-0.275174</td>\n",
       "      <td>retained</td>\n",
       "    </tr>\n",
       "    <tr>\n",
       "      <th>3</th>\n",
       "      <td>00036e5b6a197c196fa10fc0ad4e2853b22294dff64d27...</td>\n",
       "      <td>-0.343293</td>\n",
       "      <td>-0.270133</td>\n",
       "      <td>month</td>\n",
       "    </tr>\n",
       "    <tr>\n",
       "      <th>4</th>\n",
       "      <td>00037fe8e712041a476b8b1b827583cbc34895844057f0...</td>\n",
       "      <td>-0.343293</td>\n",
       "      <td>-0.275174</td>\n",
       "      <td>2month</td>\n",
       "    </tr>\n",
       "    <tr>\n",
       "      <th>5</th>\n",
       "      <td>0003b127aa1c0c34490db8817574482464aad9f99cffde...</td>\n",
       "      <td>-0.343293</td>\n",
       "      <td>-0.275174</td>\n",
       "      <td>month</td>\n",
       "    </tr>\n",
       "    <tr>\n",
       "      <th>6</th>\n",
       "      <td>0004733c4175d61e67d1ec9d3602f6c3341180800bc8bf...</td>\n",
       "      <td>-0.343293</td>\n",
       "      <td>-0.275174</td>\n",
       "      <td>month</td>\n",
       "    </tr>\n",
       "    <tr>\n",
       "      <th>7</th>\n",
       "      <td>00047f6584e6bcfed540e1bc53651c0c27f02c5bc53091...</td>\n",
       "      <td>-0.343293</td>\n",
       "      <td>-0.275174</td>\n",
       "      <td>2month</td>\n",
       "    </tr>\n",
       "    <tr>\n",
       "      <th>8</th>\n",
       "      <td>0004a2a2f32479b2e0ff35b2a3b9d77f9949a1d2f3f16c...</td>\n",
       "      <td>-0.343293</td>\n",
       "      <td>-0.275174</td>\n",
       "      <td>retained</td>\n",
       "    </tr>\n",
       "    <tr>\n",
       "      <th>9</th>\n",
       "      <td>0006502148dc2533ef4ac4b9939ee19f18483a7c3c7256...</td>\n",
       "      <td>-0.343293</td>\n",
       "      <td>-0.153116</td>\n",
       "      <td>month</td>\n",
       "    </tr>\n",
       "    <tr>\n",
       "      <th>10</th>\n",
       "      <td>00069cf4d605e1daa0c75da487fc896121a1a0399c72c2...</td>\n",
       "      <td>-0.343293</td>\n",
       "      <td>-0.275174</td>\n",
       "      <td>2month</td>\n",
       "    </tr>\n",
       "    <tr>\n",
       "      <th>11</th>\n",
       "      <td>0007838a3f353aa4a4c938d42ee43a2fa51b03557e624a...</td>\n",
       "      <td>0.015701</td>\n",
       "      <td>-0.275174</td>\n",
       "      <td>week</td>\n",
       "    </tr>\n",
       "    <tr>\n",
       "      <th>12</th>\n",
       "      <td>0007fbe4b83e20cff64868930838e80e7cbc44a68943ae...</td>\n",
       "      <td>-0.343293</td>\n",
       "      <td>-0.102349</td>\n",
       "      <td>week</td>\n",
       "    </tr>\n",
       "    <tr>\n",
       "      <th>13</th>\n",
       "      <td>0008086e0aaed17eac6794214ceafca85245fda11aae86...</td>\n",
       "      <td>-0.343293</td>\n",
       "      <td>-0.236288</td>\n",
       "      <td>week</td>\n",
       "    </tr>\n",
       "    <tr>\n",
       "      <th>14</th>\n",
       "      <td>0008c8c21f194a7855fec7d3b92b99f873d191dfd30790...</td>\n",
       "      <td>-0.330276</td>\n",
       "      <td>-0.275174</td>\n",
       "      <td>2month</td>\n",
       "    </tr>\n",
       "    <tr>\n",
       "      <th>15</th>\n",
       "      <td>000a3b32d5b32bfd74f42ba2ab8296ad6836aaf7fef4f0...</td>\n",
       "      <td>-0.343293</td>\n",
       "      <td>-0.136296</td>\n",
       "      <td>week</td>\n",
       "    </tr>\n",
       "    <tr>\n",
       "      <th>16</th>\n",
       "      <td>000a6998e7fbd82fb6d5156cac86f9f86a43aafd6a0394...</td>\n",
       "      <td>-0.343293</td>\n",
       "      <td>-0.275174</td>\n",
       "      <td>2month</td>\n",
       "    </tr>\n",
       "    <tr>\n",
       "      <th>17</th>\n",
       "      <td>000c248e348b394bb79f415098a12b99a555e6c513e891...</td>\n",
       "      <td>-0.343293</td>\n",
       "      <td>-0.256163</td>\n",
       "      <td>week</td>\n",
       "    </tr>\n",
       "    <tr>\n",
       "      <th>18</th>\n",
       "      <td>000c35a59542816b583a690a4db87b73eba18a4cb467ba...</td>\n",
       "      <td>-0.343293</td>\n",
       "      <td>-0.270313</td>\n",
       "      <td>retained</td>\n",
       "    </tr>\n",
       "    <tr>\n",
       "      <th>19</th>\n",
       "      <td>000c36cb46d841c3e91e8ca3bedd8c53ca2eefa357521e...</td>\n",
       "      <td>-0.343293</td>\n",
       "      <td>-0.263832</td>\n",
       "      <td>retained</td>\n",
       "    </tr>\n",
       "  </tbody>\n",
       "</table>\n",
       "</div>"
      ],
      "text/plain": [
       "                                               acc_id  guild_chat  party_chat  \\\n",
       "0   0000264b01392acfde44f9d8494f112a701dc5d3e5fda6...   -0.343293   -0.275174   \n",
       "1   0001f130e89288ff0df167b998f6eb7085687f411fcb72...   -0.343293   -0.275174   \n",
       "2   00028f0ad71c07f48aef465fd0c98ba6e3f0f3de3d2f7d...   -0.343293   -0.275174   \n",
       "3   00036e5b6a197c196fa10fc0ad4e2853b22294dff64d27...   -0.343293   -0.270133   \n",
       "4   00037fe8e712041a476b8b1b827583cbc34895844057f0...   -0.343293   -0.275174   \n",
       "5   0003b127aa1c0c34490db8817574482464aad9f99cffde...   -0.343293   -0.275174   \n",
       "6   0004733c4175d61e67d1ec9d3602f6c3341180800bc8bf...   -0.343293   -0.275174   \n",
       "7   00047f6584e6bcfed540e1bc53651c0c27f02c5bc53091...   -0.343293   -0.275174   \n",
       "8   0004a2a2f32479b2e0ff35b2a3b9d77f9949a1d2f3f16c...   -0.343293   -0.275174   \n",
       "9   0006502148dc2533ef4ac4b9939ee19f18483a7c3c7256...   -0.343293   -0.153116   \n",
       "10  00069cf4d605e1daa0c75da487fc896121a1a0399c72c2...   -0.343293   -0.275174   \n",
       "11  0007838a3f353aa4a4c938d42ee43a2fa51b03557e624a...    0.015701   -0.275174   \n",
       "12  0007fbe4b83e20cff64868930838e80e7cbc44a68943ae...   -0.343293   -0.102349   \n",
       "13  0008086e0aaed17eac6794214ceafca85245fda11aae86...   -0.343293   -0.236288   \n",
       "14  0008c8c21f194a7855fec7d3b92b99f873d191dfd30790...   -0.330276   -0.275174   \n",
       "15  000a3b32d5b32bfd74f42ba2ab8296ad6836aaf7fef4f0...   -0.343293   -0.136296   \n",
       "16  000a6998e7fbd82fb6d5156cac86f9f86a43aafd6a0394...   -0.343293   -0.275174   \n",
       "17  000c248e348b394bb79f415098a12b99a555e6c513e891...   -0.343293   -0.256163   \n",
       "18  000c35a59542816b583a690a4db87b73eba18a4cb467ba...   -0.343293   -0.270313   \n",
       "19  000c36cb46d841c3e91e8ca3bedd8c53ca2eefa357521e...   -0.343293   -0.263832   \n",
       "\n",
       "       label  \n",
       "0       week  \n",
       "1   retained  \n",
       "2   retained  \n",
       "3      month  \n",
       "4     2month  \n",
       "5      month  \n",
       "6      month  \n",
       "7     2month  \n",
       "8   retained  \n",
       "9      month  \n",
       "10    2month  \n",
       "11      week  \n",
       "12      week  \n",
       "13      week  \n",
       "14    2month  \n",
       "15      week  \n",
       "16    2month  \n",
       "17      week  \n",
       "18  retained  \n",
       "19  retained  "
      ]
     },
     "execution_count": 8,
     "metadata": {},
     "output_type": "execute_result"
    }
   ],
   "source": [
    "train_chat.head(20)"
   ]
  },
  {
   "cell_type": "code",
   "execution_count": 9,
   "metadata": {},
   "outputs": [],
   "source": [
    "train_chat = train_chat[(train_chat['guild_chat'] > -0.33) & (train_chat['party_chat'] > -0.275)]"
   ]
  },
  {
   "cell_type": "code",
   "execution_count": 10,
   "metadata": {},
   "outputs": [
    {
     "data": {
      "text/html": [
       "<div>\n",
       "<style scoped>\n",
       "    .dataframe tbody tr th:only-of-type {\n",
       "        vertical-align: middle;\n",
       "    }\n",
       "\n",
       "    .dataframe tbody tr th {\n",
       "        vertical-align: top;\n",
       "    }\n",
       "\n",
       "    .dataframe thead th {\n",
       "        text-align: right;\n",
       "    }\n",
       "</style>\n",
       "<table border=\"1\" class=\"dataframe\">\n",
       "  <thead>\n",
       "    <tr style=\"text-align: right;\">\n",
       "      <th></th>\n",
       "      <th>acc_id</th>\n",
       "      <th>guild_chat</th>\n",
       "      <th>party_chat</th>\n",
       "      <th>label</th>\n",
       "    </tr>\n",
       "  </thead>\n",
       "  <tbody>\n",
       "    <tr>\n",
       "      <th>20</th>\n",
       "      <td>000c7d37960d5261d7680320227e07e53580f654cf0322...</td>\n",
       "      <td>2.036069</td>\n",
       "      <td>1.275932</td>\n",
       "      <td>retained</td>\n",
       "    </tr>\n",
       "    <tr>\n",
       "      <th>24</th>\n",
       "      <td>000f75da470b53684a56be7c49083451cfa58db4573900...</td>\n",
       "      <td>1.548961</td>\n",
       "      <td>5.138034</td>\n",
       "      <td>retained</td>\n",
       "    </tr>\n",
       "    <tr>\n",
       "      <th>32</th>\n",
       "      <td>001a711324abb3f8c487779f6be2cdc052918390eba1b6...</td>\n",
       "      <td>1.655152</td>\n",
       "      <td>0.533324</td>\n",
       "      <td>retained</td>\n",
       "    </tr>\n",
       "    <tr>\n",
       "      <th>36</th>\n",
       "      <td>001ea7c5f0b1e3e4ce0794d0c812c9782248ddcec67c1f...</td>\n",
       "      <td>-0.128445</td>\n",
       "      <td>-0.186169</td>\n",
       "      <td>retained</td>\n",
       "    </tr>\n",
       "    <tr>\n",
       "      <th>39</th>\n",
       "      <td>001ed54e52274af3df2789074a12e1548c6d8b01b358eb...</td>\n",
       "      <td>1.957968</td>\n",
       "      <td>1.070702</td>\n",
       "      <td>retained</td>\n",
       "    </tr>\n",
       "  </tbody>\n",
       "</table>\n",
       "</div>"
      ],
      "text/plain": [
       "                                               acc_id  guild_chat  party_chat  \\\n",
       "20  000c7d37960d5261d7680320227e07e53580f654cf0322...    2.036069    1.275932   \n",
       "24  000f75da470b53684a56be7c49083451cfa58db4573900...    1.548961    5.138034   \n",
       "32  001a711324abb3f8c487779f6be2cdc052918390eba1b6...    1.655152    0.533324   \n",
       "36  001ea7c5f0b1e3e4ce0794d0c812c9782248ddcec67c1f...   -0.128445   -0.186169   \n",
       "39  001ed54e52274af3df2789074a12e1548c6d8b01b358eb...    1.957968    1.070702   \n",
       "\n",
       "       label  \n",
       "20  retained  \n",
       "24  retained  \n",
       "32  retained  \n",
       "36  retained  \n",
       "39  retained  "
      ]
     },
     "execution_count": 10,
     "metadata": {},
     "output_type": "execute_result"
    }
   ],
   "source": [
    "train_chat.head()"
   ]
  },
  {
   "cell_type": "code",
   "execution_count": 11,
   "metadata": {},
   "outputs": [
    {
     "data": {
      "text/plain": [
       "<seaborn.axisgrid.FacetGrid at 0x1a7d3cd1630>"
      ]
     },
     "execution_count": 11,
     "metadata": {},
     "output_type": "execute_result"
    },
    {
     "data": {
      "image/png": "[encoded data removed]",
      "text/plain": [
       "<matplotlib.figure.Figure at 0x1a7d3cd1710>"
      ]
     },
     "metadata": {},
     "output_type": "display_data"
    }
   ],
   "source": [
    "sns.relplot(x='guild_chat', y='party_chat', data=train_chat)"
   ]
  },
  {
   "cell_type": "code",
   "execution_count": 12,
   "metadata": {},
   "outputs": [],
   "source": [
    "np.random.seed(10)"
   ]
  },
  {
   "cell_type": "code",
   "execution_count": 13,
   "metadata": {},
   "outputs": [],
   "source": [
    "day1 = np.arange(100)"
   ]
  },
  {
   "cell_type": "code",
   "execution_count": 14,
   "metadata": {},
   "outputs": [],
   "source": [
    "value1 = np.random.randn(100).cumsum()"
   ]
  },
  {
   "cell_type": "code",
   "execution_count": 15,
   "metadata": {},
   "outputs": [],
   "source": [
    "df1 = pd.DataFrame({'day': day1, 'value': value1}, index = None)"
   ]
  },
  {
   "cell_type": "code",
   "execution_count": 16,
   "metadata": {},
   "outputs": [
    {
     "data": {
      "text/plain": [
       "<seaborn.axisgrid.FacetGrid at 0x1a7d2d3fe48>"
      ]
     },
     "execution_count": 16,
     "metadata": {},
     "output_type": "execute_result"
    },
    {
     "data": {
      "image/png": "[encoded data removed]",
      "text/plain": [
       "<matplotlib.figure.Figure at 0x1a7ce69bf28>"
      ]
     },
     "metadata": {},
     "output_type": "display_data"
    }
   ],
   "source": [
    "sns.relplot(x='day', y='value', data=df1)"
   ]
  },
  {
   "cell_type": "markdown",
   "metadata": {},
   "source": [
    "# Emphasizing Continuity by using line plots"
   ]
  },
  {
   "cell_type": "markdown",
   "metadata": {},
   "source": [
    "#### add 'kind' parameter"
   ]
  },
  {
   "cell_type": "code",
   "execution_count": 17,
   "metadata": {},
   "outputs": [
    {
     "data": {
      "image/png": "[encoded data removed]",
      "text/plain": [
       "<matplotlib.figure.Figure at 0x1a7d43d5588>"
      ]
     },
     "metadata": {},
     "output_type": "display_data"
    }
   ],
   "source": [
    "g = sns.relplot(x='day', y='value', kind='line', data=df1)"
   ]
  },
  {
   "cell_type": "markdown",
   "metadata": {},
   "source": [
    "# Aggregation and representing uncertainty"
   ]
  },
  {
   "cell_type": "code",
   "execution_count": 18,
   "metadata": {},
   "outputs": [],
   "source": [
    "day2 = np.random.randint(1,20, size=100)"
   ]
  },
  {
   "cell_type": "code",
   "execution_count": 19,
   "metadata": {},
   "outputs": [],
   "source": [
    "day2.sort()"
   ]
  },
  {
   "cell_type": "code",
   "execution_count": 20,
   "metadata": {},
   "outputs": [],
   "source": [
    "value2 = np.random.randn(100).cumsum()"
   ]
  },
  {
   "cell_type": "code",
   "execution_count": 21,
   "metadata": {},
   "outputs": [],
   "source": [
    "df2 = pd.DataFrame({'day': day2, 'value':value2})"
   ]
  },
  {
   "cell_type": "markdown",
   "metadata": {},
   "source": [
    "#### If you use dataframe that has multiple value for a x variable,"
   ]
  },
  {
   "cell_type": "markdown",
   "metadata": {},
   "source": [
    "#### relplot plot the mean and the 95% confidence interval around the mean"
   ]
  },
  {
   "cell_type": "code",
   "execution_count": 22,
   "metadata": {},
   "outputs": [
    {
     "data": {
      "text/plain": [
       "<seaborn.axisgrid.FacetGrid at 0x1a7d44313c8>"
      ]
     },
     "execution_count": 22,
     "metadata": {},
     "output_type": "execute_result"
    },
    {
     "data": {
      "image/png": "[encoded data removed]",
      "text/plain": [
       "<matplotlib.figure.Figure at 0x1a7d44314e0>"
      ]
     },
     "metadata": {},
     "output_type": "display_data"
    }
   ],
   "source": [
    "sns.relplot(x='day', y='value', kind='line', data=df2)"
   ]
  },
  {
   "cell_type": "markdown",
   "metadata": {},
   "source": [
    "#### It cause time delay. So, if you want to disable them. Use 'ci' parameter"
   ]
  },
  {
   "cell_type": "code",
   "execution_count": 23,
   "metadata": {},
   "outputs": [
    {
     "data": {
      "text/plain": [
       "<seaborn.axisgrid.FacetGrid at 0x1a7d44bad68>"
      ]
     },
     "execution_count": 23,
     "metadata": {},
     "output_type": "execute_result"
    },
    {
     "data": {
      "image/png": "[encoded data removed]",
      "text/plain": [
       "<matplotlib.figure.Figure at 0x1a7d44ba8d0>"
      ]
     },
     "metadata": {},
     "output_type": "display_data"
    }
   ],
   "source": [
    "sns.relplot(x='day', y='value',ci=None, kind='line', data=df2)"
   ]
  },
  {
   "cell_type": "markdown",
   "metadata": {},
   "source": [
    "#### Especially with larger data, It is recommended to represent the spread of distribution by plotting standard deviation instead of confidential interval"
   ]
  },
  {
   "cell_type": "markdown",
   "metadata": {},
   "source": [
    "#### ci='sd'"
   ]
  },
  {
   "cell_type": "code",
   "execution_count": 24,
   "metadata": {},
   "outputs": [
    {
     "data": {
      "text/plain": [
       "<seaborn.axisgrid.FacetGrid at 0x1a7d450a6d8>"
      ]
     },
     "execution_count": 24,
     "metadata": {},
     "output_type": "execute_result"
    },
    {
     "data": {
      "image/png": "[encoded data removed]",
      "text/plain": [
       "<matplotlib.figure.Figure at 0x1a7d44f56d8>"
      ]
     },
     "metadata": {},
     "output_type": "display_data"
    }
   ],
   "source": [
    "sns.relplot(x='day', y='value',ci='sd', kind='line', data=df2)"
   ]
  },
  {
   "cell_type": "markdown",
   "metadata": {},
   "source": [
    "#### To turn off aggregation, set the estimator to None"
   ]
  },
  {
   "cell_type": "code",
   "execution_count": 25,
   "metadata": {},
   "outputs": [
    {
     "data": {
      "text/plain": [
       "<seaborn.axisgrid.FacetGrid at 0x1a7d4540828>"
      ]
     },
     "execution_count": 25,
     "metadata": {},
     "output_type": "execute_result"
    },
    {
     "data": {
      "image/png": "[encoded data removed]",
      "text/plain": [
       "<matplotlib.figure.Figure at 0x1a7d4540cc0>"
      ]
     },
     "metadata": {},
     "output_type": "display_data"
    }
   ],
   "source": [
    "sns.relplot(x='day', y='value', estimator=None, kind='line', data=df2)"
   ]
  },
  {
   "cell_type": "code",
   "execution_count": null,
   "metadata": {},
   "outputs": [],
   "source": []
  }
 ],
 "metadata": {
  "kernelspec": {
   "display_name": "Python 3",
   "language": "python",
   "name": "python3"
  },
  "language_info": {
   "codemirror_mode": {
    "name": "ipython",
    "version": 3
   },
   "file_extension": ".py",
   "mimetype": "text/x-python",
   "name": "python",
   "nbconvert_exporter": "python",
   "pygments_lexer": "ipython3",
   "version": "3.6.4"
  }
 },
 "nbformat": 4,
 "nbformat_minor": 2
}
